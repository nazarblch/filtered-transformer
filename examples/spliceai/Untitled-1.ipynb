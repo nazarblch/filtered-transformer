{
 "cells": [
  {
   "cell_type": "code",
   "execution_count": 1,
   "metadata": {},
   "outputs": [
    {
     "name": "stderr",
     "output_type": "stream",
     "text": [
      "2023-03-22 02:11:44.421517: I tensorflow/core/platform/cpu_feature_guard.cc:193] This TensorFlow binary is optimized with oneAPI Deep Neural Network Library (oneDNN) to use the following CPU instructions in performance-critical operations:  AVX2 AVX512F AVX512_VNNI FMA\n",
      "To enable them in other operations, rebuild TensorFlow with the appropriate compiler flags.\n",
      "2023-03-22 02:11:44.606446: I tensorflow/core/util/port.cc:104] oneDNN custom operations are on. You may see slightly different numerical results due to floating-point round-off errors from different computation orders. To turn them off, set the environment variable `TF_ENABLE_ONEDNN_OPTS=0`.\n",
      "2023-03-22 02:11:46.537969: W tensorflow/compiler/xla/stream_executor/platform/default/dso_loader.cc:64] Could not load dynamic library 'libnvinfer.so.7'; dlerror: libnvinfer.so.7: cannot open shared object file: No such file or directory; LD_LIBRARY_PATH: /usr/local/nvidia/lib:/usr/local/nvidia/lib64\n",
      "2023-03-22 02:11:46.538074: W tensorflow/compiler/xla/stream_executor/platform/default/dso_loader.cc:64] Could not load dynamic library 'libnvinfer_plugin.so.7'; dlerror: libnvinfer_plugin.so.7: cannot open shared object file: No such file or directory; LD_LIBRARY_PATH: /usr/local/nvidia/lib:/usr/local/nvidia/lib64\n",
      "2023-03-22 02:11:46.538084: W tensorflow/compiler/tf2tensorrt/utils/py_utils.cc:38] TF-TRT Warning: Cannot dlopen some TensorRT libraries. If you would like to use Nvidia GPU with TensorRT, please make sure the missing libraries mentioned above are installed properly.\n"
     ]
    }
   ],
   "source": [
    "import torch\n",
    "from torch.utils.data import DataLoader, DistributedSampler\n",
    "import transformers\n",
    "from transformers import AutoConfig, AutoTokenizer, HfArgumentParser\n",
    "from sklearn.metrics import average_precision_score\n",
    "import numpy as np\n",
    "import sys\n",
    "sys.path.append(\"/home/jovyan/filtered-transformer/\")\n",
    "\n",
    "from examples.spliceai.data import SpliceAIDataset\n",
    "\n",
    "tokenizer = AutoTokenizer.from_pretrained(\"/home/jovyan/filtered-transformer/data/tokenizers/t2t_1000h_multi_32k/\")\n",
    "data_path = \"/home/jovyan/splice/train.csv.gz\"\n",
    "train_dataset = SpliceAIDataset(data_path, tokenizer, max_seq_len=3024, targets_offset=5000, targets_len=5000)\n",
    "\n",
    "\n"
   ]
  },
  {
   "cell_type": "code",
   "execution_count": 2,
   "metadata": {},
   "outputs": [
    {
     "data": {
      "text/plain": [
       "{'input_ids': array([   1, 6588, 2662, ...,    3,    3,    2]),\n",
       " 'token_type_ids': array([0, 0, 0, ..., 0, 0, 0]),\n",
       " 'attention_mask': array([1, 1, 1, ..., 0, 0, 1]),\n",
       " 'labels': array([[-100, -100],\n",
       "        [-100, -100],\n",
       "        [-100, -100],\n",
       "        ...,\n",
       "        [-100, -100],\n",
       "        [-100, -100],\n",
       "        [-100, -100]]),\n",
       " 'labels_ohe': array([[0., 0., 0.],\n",
       "        [0., 0., 0.],\n",
       "        [0., 0., 0.],\n",
       "        ...,\n",
       "        [0., 0., 0.],\n",
       "        [0., 0., 0.],\n",
       "        [0., 0., 0.]]),\n",
       " 'labels_mask': array([0., 0., 0., ..., 0., 0., 0.])}"
      ]
     },
     "execution_count": 2,
     "metadata": {},
     "output_type": "execute_result"
    }
   ],
   "source": [
    "train_dataset[0]\n"
   ]
  },
  {
   "cell_type": "code",
   "execution_count": 2,
   "metadata": {},
   "outputs": [],
   "source": [
    "from typing import Dict\n",
    "from torch import Tensor\n",
    "from data_filters.sliding_window import SlidingWindowFilterDict\n",
    "from memup.base import MemoryRollout\n",
    "from examples.spliceai.modules import MemUpMemoryImpl, BertForSpliceAI, DataCollectorTrain\n",
    "from memup.preproc import IncrementStep\n",
    "import os\n",
    "os.environ[\"TOKENIZERS_PARALLELISM\"] = \"true\"\n",
    "\n",
    "data_filter = SlidingWindowFilterDict(512, pad_fields={}, padding=0, skip_fields={\"length\"})\n",
    "\n",
    "model_cfg = AutoConfig.from_pretrained('/home/jovyan/filtered-transformer/data/configs/L12-H768-A12-V32k-preln.json')\n",
    "model = BertForSpliceAI(config=model_cfg)\n",
    "\n",
    "memup_iter = MemoryRollout[Dict[str, torch.Tensor]](\n",
    "    steps=2,\n",
    "    memory=MemUpMemoryImpl(model),\n",
    "    data_filter=data_filter,\n",
    "    info_update=[IncrementStep()]\n",
    ")\n",
    "\n"
   ]
  },
  {
   "cell_type": "code",
   "execution_count": 3,
   "metadata": {},
   "outputs": [
    {
     "name": "stdout",
     "output_type": "stream",
     "text": [
      "\n"
     ]
    },
    {
     "ename": "TypeError",
     "evalue": "BertForSpliceAI.forward() got an unexpected keyword argument 'labels_ohe'",
     "output_type": "error",
     "traceback": [
      "\u001b[0;31m---------------------------------------------------------------------------\u001b[0m",
      "\u001b[0;31mTypeError\u001b[0m                                 Traceback (most recent call last)",
      "Cell \u001b[0;32mIn[3], line 15\u001b[0m\n\u001b[1;32m     11\u001b[0m batch[\u001b[39m\"\u001b[39m\u001b[39mlength\u001b[39m\u001b[39m\"\u001b[39m] \u001b[39m=\u001b[39m batch[\u001b[39m\"\u001b[39m\u001b[39mlabels\u001b[39m\u001b[39m\"\u001b[39m]\u001b[39m.\u001b[39mshape[\u001b[39m1\u001b[39m]\n\u001b[1;32m     13\u001b[0m \u001b[39mwhile\u001b[39;00m \u001b[39mnot\u001b[39;00m done:\n\u001b[0;32m---> 15\u001b[0m         data_collector, state, info, done \u001b[39m=\u001b[39m memup_iter\u001b[39m.\u001b[39;49mforward(batch, state, info, DataCollectorTrain())\n\u001b[1;32m     16\u001b[0m         \u001b[39mprint\u001b[39m(it, info)\n",
      "File \u001b[0;32m~/filtered-transformer/memup/base.py:132\u001b[0m, in \u001b[0;36mMemoryRollout.forward\u001b[0;34m(self, data, state, info, collector, steps)\u001b[0m\n\u001b[1;32m    129\u001b[0m         info \u001b[39m=\u001b[39m update\u001b[39m.\u001b[39mforward(data, state, info)\n\u001b[1;32m    131\u001b[0m filtered_data, done \u001b[39m=\u001b[39m \u001b[39mself\u001b[39m\u001b[39m.\u001b[39mdata_filter(data, state, info)\n\u001b[0;32m--> 132\u001b[0m out, state \u001b[39m=\u001b[39m \u001b[39mself\u001b[39;49m\u001b[39m.\u001b[39;49mmemory\u001b[39m.\u001b[39;49mforward(filtered_data, state)\n\u001b[1;32m    133\u001b[0m collector\u001b[39m.\u001b[39mappend(filtered_data, out, state)\n\u001b[1;32m    135\u001b[0m \u001b[39mif\u001b[39;00m done:\n",
      "File \u001b[0;32m~/filtered-transformer/examples/spliceai/modules.py:88\u001b[0m, in \u001b[0;36mMemUpMemoryImpl.forward\u001b[0;34m(self, data, state)\u001b[0m\n\u001b[1;32m     87\u001b[0m \u001b[39mdef\u001b[39;00m \u001b[39mforward\u001b[39m(\u001b[39mself\u001b[39m, data: Dict[\u001b[39mstr\u001b[39m, Tensor], state: State) \u001b[39m-\u001b[39m\u001b[39m>\u001b[39m Tuple[Tensor, State]:\n\u001b[0;32m---> 88\u001b[0m     out, hidden, bins_mask, new_state \u001b[39m=\u001b[39m \u001b[39mself\u001b[39;49m\u001b[39m.\u001b[39;49mmem_tr\u001b[39m.\u001b[39;49mforward(state, \u001b[39m*\u001b[39;49m\u001b[39m*\u001b[39;49mdata)\n\u001b[1;32m     90\u001b[0m     \u001b[39mif\u001b[39;00m bins_mask\u001b[39m.\u001b[39mtype(torch\u001b[39m.\u001b[39mint32)\u001b[39m.\u001b[39msum(\u001b[39m0\u001b[39m) \u001b[39m>\u001b[39m \u001b[39m0\u001b[39m:\n\u001b[1;32m     91\u001b[0m         lens \u001b[39m=\u001b[39m bins_mask\u001b[39m.\u001b[39mtype(torch\u001b[39m.\u001b[39mint32)\u001b[39m.\u001b[39msum(\u001b[39m1\u001b[39m)\n",
      "\u001b[0;31mTypeError\u001b[0m: BertForSpliceAI.forward() got an unexpected keyword argument 'labels_ohe'"
     ]
    }
   ],
   "source": [
    "train_dataloader = DataLoader(train_dataset, shuffle=True, batch_size=32, num_workers=8)\n",
    "\n",
    "for it, batch in enumerate(train_dataloader):\n",
    "\n",
    "        model.train()\n",
    "        \n",
    "        info = {}\n",
    "        done = False\n",
    "        print()\n",
    "        state = torch.zeros(batch[\"labels\"].shape[0], 100, model_cfg.hidden_size, device=torch.device(\"cuda:0\"))\n",
    "        batch[\"length\"] = batch[\"labels\"].shape[1]\n",
    "\n",
    "        while not done:\n",
    "\n",
    "                data_collector, state, info, done = memup_iter.forward(batch, state, info, DataCollectorTrain())\n",
    "                print(it, info)\n"
   ]
  }
 ],
 "metadata": {
  "kernelspec": {
   "display_name": "Python 3",
   "language": "python",
   "name": "python3"
  },
  "language_info": {
   "codemirror_mode": {
    "name": "ipython",
    "version": 3
   },
   "file_extension": ".py",
   "mimetype": "text/x-python",
   "name": "python",
   "nbconvert_exporter": "python",
   "pygments_lexer": "ipython3",
   "version": "3.10.9"
  },
  "orig_nbformat": 4
 },
 "nbformat": 4,
 "nbformat_minor": 2
}
